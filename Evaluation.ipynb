{
 "cells": [
  {
   "cell_type": "code",
   "execution_count": 1,
   "metadata": {},
   "outputs": [
    {
     "name": "stderr",
     "output_type": "stream",
     "text": [
      "/anaconda3/lib/python3.6/site-packages/h5py/__init__.py:36: FutureWarning: Conversion of the second argument of issubdtype from `float` to `np.floating` is deprecated. In future, it will be treated as `np.float64 == np.dtype(float).type`.\n",
      "  from ._conv import register_converters as _register_converters\n",
      "Using TensorFlow backend.\n"
     ]
    }
   ],
   "source": [
    "import numpy as np \n",
    "import os\n",
    "import skimage.io as io\n",
    "import skimage.transform as trans\n",
    "import numpy as np\n",
    "from keras.models import *\n",
    "from keras.layers import *\n",
    "from keras.optimizers import *\n",
    "from keras.callbacks import ModelCheckpoint, LearningRateScheduler\n",
    "from keras import backend as keras\n",
    "import cv2\n"
   ]
  },
  {
   "cell_type": "code",
   "execution_count": 53,
   "metadata": {},
   "outputs": [],
   "source": [
    "def cal_accuracy(test_image, label_image):\n",
    "    assert test_image.shape == label_image.shape\n",
    "    true_1 = label_image==1\n",
    "    true_0 = label_image==0\n",
    "    all_1 =  np.sum(label_image[true_1])\n",
    "    total_pixels = label_image.shape[0]*label_image.shape[1]\n",
    "    TP = np.sum(test_image[true_1])\n",
    "    FP = np.sum(test_image[true_0])\n",
    "    FN = all_1-TP\n",
    "    TN = (total_pixels-all_1)-FP\n",
    "    acc =(TN+TP)/(FN+FP+TN+TP)\n",
    "    dsc = (2*TP)/(2*TP+FP+FN)\n",
    "    return (TP/total_pixels, TN/total_pixels, FP/total_pixels, FN/total_pixels, acc, dsc)"
   ]
  },
  {
   "cell_type": "code",
   "execution_count": 54,
   "metadata": {},
   "outputs": [],
   "source": [
    "PATH_PRED = '/Users/yiranwang/Documents/Columbia_semester_2/Deep Learning in Bio App/Project/test_activelearning/pred/'\n",
    "PATH_LABEL = '/Users/yiranwang/Documents/Columbia_semester_2/Deep Learning in Bio App/Project/test_activelearning/label/'\n",
    "all_TP, all_TN, all_FP, all_FN, all_acc, all_dsc = 0., 0., 0., 0., 0., 0.\n",
    "\n",
    "for i in range(165):\n",
    "    pred = cv2.imread(os.path.join(PATH_PRED,\"{}\".format(i).zfill(4)+\".png\"),0)\n",
    "    label = cv2.imread(os.path.join(PATH_LABEL,\"{}\".format(i)+\".png\"),0) \n",
    "    pred = pred/255\n",
    "    label = label/255\n",
    "    TP, TN, FP, FN, acc, dsc = cal_accuracy(pred, label)\n",
    "    all_TP += TP\n",
    "    all_TN += TN\n",
    "    all_FP += FP\n",
    "    all_FN += FN\n",
    "    all_acc += acc\n",
    "    all_dsc += dsc\n",
    "    \n",
    "    \n"
   ]
  },
  {
   "cell_type": "code",
   "execution_count": 56,
   "metadata": {},
   "outputs": [
    {
     "name": "stdout",
     "output_type": "stream",
     "text": [
      "[5.26091836e-02 9.32737108e-01 4.76251467e-04 1.41774573e-02\n",
      " 9.85346291e-01 8.77375779e-01]\n"
     ]
    }
   ],
   "source": [
    "print (np.array([all_TP, all_TN, all_FP, all_FN, all_acc, all_dsc])/165)"
   ]
  }
 ],
 "metadata": {
  "kernelspec": {
   "display_name": "Python (BMEN4000)",
   "language": "python",
   "name": "bmen4000"
  },
  "language_info": {
   "codemirror_mode": {
    "name": "ipython",
    "version": 3
   },
   "file_extension": ".py",
   "mimetype": "text/x-python",
   "name": "python",
   "nbconvert_exporter": "python",
   "pygments_lexer": "ipython3",
   "version": "3.6.8"
  }
 },
 "nbformat": 4,
 "nbformat_minor": 2
}
